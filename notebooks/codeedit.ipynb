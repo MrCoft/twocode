{
 "cells": [
  {
   "cell_type": "markdown",
   "metadata": {},
   "source": [
    "# Code editing in Twocode\n",
    "Twocode is a language designed for code generation. To compile Twocode, start an interpreter and load the program. You can edit the code in all possible ways, then transpile it to a simple Java-like program.\n",
    "\n",
    "Here we explore the Code type and what one can do with it in the interpreter."
   ]
  },
  {
   "cell_type": "markdown",
   "metadata": {},
   "source": [
    "### Functions\n",
    "We define a function that takes in two arguments and always returns 5."
   ]
  },
  {
   "cell_type": "code",
   "execution_count": 1,
   "metadata": {},
   "outputs": [
    {
     "data": {
      "text/plain": [
       "5"
      ]
     },
     "execution_count": 1,
     "metadata": {},
     "output_type": "execute_result"
    }
   ],
   "source": [
    "func f(a, b):\n",
    "    return 5\n",
    "\n",
    "f(1, 2)"
   ]
  },
  {
   "cell_type": "code",
   "execution_count": 2,
   "metadata": {},
   "outputs": [
    {
     "data": {
      "text/plain": [
       "func(a, b): return 5"
      ]
     },
     "execution_count": 2,
     "metadata": {},
     "output_type": "execute_result"
    }
   ],
   "source": [
    "f"
   ]
  },
  {
   "cell_type": "markdown",
   "metadata": {},
   "source": [
    "The function's body is stored in its `code` attribute. The body is an [AST](https://en.wikipedia.org/wiki/Abstract_syntax_tree) (Abstract Syntax Tree), a parsed Code object.\n",
    "\n",
    "We can view a Code object as source code, or as the raw syntax tree."
   ]
  },
  {
   "cell_type": "code",
   "execution_count": 3,
   "metadata": {},
   "outputs": [
    {
     "data": {
      "text/plain": [
       "return 5"
      ]
     },
     "execution_count": 3,
     "metadata": {},
     "output_type": "execute_result"
    }
   ],
   "source": [
    "f.code"
   ]
  },
  {
   "cell_type": "code",
   "execution_count": 4,
   "metadata": {},
   "outputs": [
    {
     "data": {
      "text/plain": [
       "code:\n",
       ".   stmt_return tuple_expr expr_term term_literal literal:\n",
       ".   .   value: \"5\"\n",
       ".   .   type: \"integer\""
      ]
     },
     "execution_count": 4,
     "metadata": {},
     "output_type": "execute_result"
    }
   ],
   "source": [
    "f.code.tree()"
   ]
  },
  {
   "cell_type": "markdown",
   "metadata": {},
   "source": [
    "### Assigning code\n",
    "We can change `f`'s code, and we will use the `macro` syntax feature to do so.\n",
    "\n",
    "`macro stmt` is the AST of `stmt`. `macro 1 + 2` isn't 3, it's a `1 + 2` Code object."
   ]
  },
  {
   "cell_type": "code",
   "execution_count": 5,
   "metadata": {},
   "outputs": [
    {
     "name": "stdout",
     "output_type": "stream",
     "text": [
      "func(a, b): return (a + b)\n",
      "3\n"
     ]
    }
   ],
   "source": [
    "f.code = macro return (a + b)\n",
    "\n",
    "print(\n",
    "    f.source(),\n",
    "    f(1, 2),\n",
    "sep=\"\\n\")"
   ]
  },
  {
   "cell_type": "markdown",
   "metadata": {},
   "source": [
    "Now the function works as if this was its body in the first place. The `a` and `b` identifiers are evaluated in its scope. `return 1 + 2` returns 3."
   ]
  },
  {
   "cell_type": "markdown",
   "metadata": {},
   "source": [
    "### Arguments\n",
    "The function's arguments are `Arg` objects, stored under `args`."
   ]
  },
  {
   "cell_type": "code",
   "execution_count": 6,
   "metadata": {},
   "outputs": [
    {
     "data": {
      "text/plain": [
       "[Arg(\"a\"), Arg(\"b\")]"
      ]
     },
     "execution_count": 6,
     "metadata": {},
     "output_type": "execute_result"
    }
   ],
   "source": [
    "var args = f.args\n",
    "\n",
    "args"
   ]
  },
  {
   "cell_type": "markdown",
   "metadata": {},
   "source": [
    "### Class editing\n",
    "We define a simple class."
   ]
  },
  {
   "cell_type": "code",
   "execution_count": 7,
   "metadata": {},
   "outputs": [
    {
     "data": {
      "text/plain": [
       "[\"msg\": <func (C,String)->()>, \"x\": Attr(type=Int, default_=macro 10)]"
      ]
     },
     "execution_count": 7,
     "metadata": {},
     "output_type": "execute_result"
    }
   ],
   "source": [
    "class C:\n",
    "    var x:Int = 10\n",
    "    func msg(s:String):\n",
    "        print(\"in C.msg\", s)\n",
    "\n",
    "var fields = C.__fields__\n",
    "fields"
   ]
  },
  {
   "cell_type": "markdown",
   "metadata": {},
   "source": [
    "A class's `__fields__` is a map from field names to Attr and Func objects.\n",
    "\n",
    "The method has a hidden `this:C` prepended to its arguments."
   ]
  },
  {
   "cell_type": "code",
   "execution_count": 8,
   "metadata": {},
   "outputs": [
    {
     "data": {
      "text/plain": [
       "func(this:C, s:String): print(\"in C.msg\", s)"
      ]
     },
     "execution_count": 8,
     "metadata": {},
     "output_type": "execute_result"
    }
   ],
   "source": [
    "C.msg"
   ]
  },
  {
   "cell_type": "markdown",
   "metadata": {},
   "source": [
    "### Adding methods\n",
    "We take our function `f`, change its arguments to make it a method of `C` and give it a new body to use `C`'s `x` attribute."
   ]
  },
  {
   "cell_type": "code",
   "execution_count": 9,
   "metadata": {},
   "outputs": [
    {
     "data": {
      "text/plain": [
       "class:\n",
       "    var x:Int = 10\n",
       "    \n",
       "    func f(a, b): return (x * a + b)\n",
       "    func msg(s:String): print(\"in C.msg\", s)"
      ]
     },
     "execution_count": 9,
     "metadata": {},
     "output_type": "execute_result"
    }
   ],
   "source": [
    "args = [Arg(name=\"this\", type=C)] + args\n",
    "f.args = args\n",
    "f.code = (this -> (x * a + b)).code\n",
    "fields[\"f\"] = f\n",
    "C.__fields__ = fields\n",
    "\n",
    "C"
   ]
  },
  {
   "cell_type": "markdown",
   "metadata": {},
   "source": [
    "This is the new \"source code\" of `C`."
   ]
  },
  {
   "cell_type": "code",
   "execution_count": 10,
   "metadata": {},
   "outputs": [
    {
     "data": {
      "text/plain": [
       "23"
      ]
     },
     "execution_count": 10,
     "metadata": {},
     "output_type": "execute_result"
    }
   ],
   "source": [
    "var c = C()\n",
    "c.f(2, 3)"
   ]
  }
 ],
 "metadata": {
  "kernelspec": {
   "display_name": "Twocode",
   "language": "twocode",
   "name": "twocode"
  },
  "language_info": {
   "file_extension": ".2c",
   "mimetype": "text/x-twocode",
   "name": "twocode"
  }
 },
 "nbformat": 4,
 "nbformat_minor": 2
}
